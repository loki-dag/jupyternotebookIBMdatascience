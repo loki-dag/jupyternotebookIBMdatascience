{
 "cells": [
  {
   "cell_type": "markdown",
   "id": "15bac319-5dc3-4caf-b06c-c112edc54309",
   "metadata": {},
   "source": [
    "# Data Science Tools and Ecosystem"
   ]
  },
  {
   "cell_type": "markdown",
   "id": "4e13df55-0078-4459-9624-9632900b31d5",
   "metadata": {},
   "source": [
    "In this notebook, Data Science Tools and Ecosystem are summarized."
   ]
  },
  {
   "cell_type": "markdown",
   "id": "7a141049-fac7-4a63-81ca-cbeec70c5255",
   "metadata": {},
   "source": [
    "Some of the popular languages that Data Scientists use are:\n",
    "1. Python\n",
    "2. R\n",
    "3. Java\n",
    "4. SQL\n",
    "\n",
    "Some of the commonly used libraries used by Data Scientists include:\n",
    "1. NumPy\n",
    "2. Pandas\n",
    "3. Matplotlib\n",
    "\n",
    "|Data Science Tools|\n",
    "|----|\n",
    "|Jupyter Notebooks|\n",
    "|RStudio|\n",
    "|IBM Watson Studio|\n"
   ]
  },
  {
   "cell_type": "markdown",
   "id": "6068b55d-8310-4e53-a89f-40a71e27a5c4",
   "metadata": {},
   "source": [
    "### Below are a few examples of evaluating arithmetic expressions in Python"
   ]
  },
  {
   "cell_type": "code",
   "execution_count": 2,
   "id": "5a5c795d-02e2-4011-9512-080058601863",
   "metadata": {},
   "outputs": [
    {
     "data": {
      "text/plain": [
       "17"
      ]
     },
     "execution_count": 2,
     "metadata": {},
     "output_type": "execute_result"
    }
   ],
   "source": [
    "(3*4)+5\n",
    "#This a simple arithmetic expression to mutiply then add integers"
   ]
  },
  {
   "cell_type": "code",
   "execution_count": 5,
   "id": "ebb85778-6166-4ae5-b749-7cc084563c13",
   "metadata": {},
   "outputs": [
    {
     "data": {
      "text/plain": [
       "3.3333333333333335"
      ]
     },
     "execution_count": 5,
     "metadata": {},
     "output_type": "execute_result"
    }
   ],
   "source": [
    "#This will convert 200 minutes to hours by diving by 60\n",
    "200/60"
   ]
  },
  {
   "cell_type": "markdown",
   "id": "efd4deab-4ec9-4a83-ad74-0a9e50c060a9",
   "metadata": {},
   "source": [
    "**Objectives:**\n",
    "- Common Languages of Data Science (Basic coding in Python & R)\n",
    "- Open-Source tools for Data Science\n",
    "- Commonly Used libraries for Data Science\n",
    "- How to use Repositories such as GitHub\n",
    "- How to Acess and use the Data Asset eXchange (DAX) &  the Model Asset eXchange (MAX)"
   ]
  },
  {
   "cell_type": "markdown",
   "id": "379c81d1-6a8b-43a3-a8e6-d1267f73ed32",
   "metadata": {},
   "source": [
    "## Loki D'Agostino\n",
    "Author"
   ]
  },
  {
   "cell_type": "code",
   "execution_count": null,
   "id": "2fb29ece-bf18-41b4-bcd9-398270efe8a1",
   "metadata": {},
   "outputs": [],
   "source": []
  }
 ],
 "metadata": {
  "kernelspec": {
   "display_name": "Python 3 (ipykernel)",
   "language": "python",
   "name": "python3"
  },
  "language_info": {
   "codemirror_mode": {
    "name": "ipython",
    "version": 3
   },
   "file_extension": ".py",
   "mimetype": "text/x-python",
   "name": "python",
   "nbconvert_exporter": "python",
   "pygments_lexer": "ipython3",
   "version": "3.12.8"
  }
 },
 "nbformat": 4,
 "nbformat_minor": 5
}
